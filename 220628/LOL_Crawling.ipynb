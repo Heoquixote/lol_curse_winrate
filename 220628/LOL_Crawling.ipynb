{
 "cells": [
  {
   "cell_type": "code",
   "execution_count": 1,
   "id": "74dce33c",
   "metadata": {
    "ExecuteTime": {
     "end_time": "2022-06-28T08:16:24.527796Z",
     "start_time": "2022-06-28T08:16:20.816421Z"
    }
   },
   "outputs": [],
   "source": [
    "# 필요패키지 import\n",
    "import time\n",
    "import json\n",
    "import urllib\n",
    "import requests\n",
    "import numpy as np\n",
    "import pandas as pd\n",
    "import matplotlib.pyplot as plt\n",
    "import seaborn as sns\n",
    "from bs4 import BeautifulSoup"
   ]
  },
  {
   "cell_type": "code",
   "execution_count": 6,
   "id": "86324701",
   "metadata": {
    "ExecuteTime": {
     "end_time": "2022-06-28T08:19:59.095734Z",
     "start_time": "2022-06-28T08:19:54.537313Z"
    }
   },
   "outputs": [],
   "source": [
    "#데이터 담는 곳\n",
    "desc_list = []\n",
    "\n",
    "for num in range(21,25):\n",
    "#딜레이    \n",
    "    seed = np.random.randint(100)\n",
    "    np.random.seed(seed)\n",
    "    a = np.random.randint(1) + round(np.random.random(),2)\n",
    "    time.sleep(a)\n",
    "\n",
    "#욕설신고 게시판 제목 크롤링\n",
    "    url = f'https://www.inven.co.kr/board/lol/2771?category=%EC%9A%95%EC%84%A4&p={num}'\n",
    "    resp = requests.get(url)\n",
    "    html = BeautifulSoup(resp.text, 'html.parser')\n",
    "    for news in html.select('td.tit'):\n",
    "        desc_list.append(news.text.strip().replace('\\t','').replace('\\n',''))"
   ]
  },
  {
   "cell_type": "code",
   "execution_count": 7,
   "id": "8bc21f30",
   "metadata": {
    "ExecuteTime": {
     "end_time": "2022-06-28T08:20:02.690974Z",
     "start_time": "2022-06-28T08:20:02.680967Z"
    }
   },
   "outputs": [
    {
     "data": {
      "text/plain": [
       "240"
      ]
     },
     "execution_count": 7,
     "metadata": {},
     "output_type": "execute_result"
    }
   ],
   "source": [
    "len(desc_list)"
   ]
  },
  {
   "cell_type": "code",
   "execution_count": 11,
   "id": "a45cac08",
   "metadata": {
    "ExecuteTime": {
     "end_time": "2022-06-28T08:20:29.588618Z",
     "start_time": "2022-06-28T08:20:29.568276Z"
    }
   },
   "outputs": [],
   "source": [
    "nick_list = []\n",
    "for i in range(0,240):\n",
    "    nick_list.append(desc_list[i].split())"
   ]
  },
  {
   "cell_type": "code",
   "execution_count": 14,
   "id": "70a51865",
   "metadata": {
    "ExecuteTime": {
     "end_time": "2022-06-28T08:21:03.689086Z",
     "start_time": "2022-06-28T08:21:03.680491Z"
    }
   },
   "outputs": [],
   "source": [
    "nick_df = pd.DataFrame(nick_list)"
   ]
  },
  {
   "cell_type": "code",
   "execution_count": 15,
   "id": "b8643a32",
   "metadata": {
    "ExecuteTime": {
     "end_time": "2022-06-28T08:21:05.756302Z",
     "start_time": "2022-06-28T08:21:05.720309Z"
    }
   },
   "outputs": [
    {
     "data": {
      "text/html": [
       "<div>\n",
       "<style scoped>\n",
       "    .dataframe tbody tr th:only-of-type {\n",
       "        vertical-align: middle;\n",
       "    }\n",
       "\n",
       "    .dataframe tbody tr th {\n",
       "        vertical-align: top;\n",
       "    }\n",
       "\n",
       "    .dataframe thead th {\n",
       "        text-align: right;\n",
       "    }\n",
       "</style>\n",
       "<table border=\"1\" class=\"dataframe\">\n",
       "  <thead>\n",
       "    <tr style=\"text-align: right;\">\n",
       "      <th></th>\n",
       "      <th>0</th>\n",
       "      <th>1</th>\n",
       "      <th>2</th>\n",
       "      <th>3</th>\n",
       "      <th>4</th>\n",
       "      <th>5</th>\n",
       "      <th>6</th>\n",
       "      <th>7</th>\n",
       "      <th>8</th>\n",
       "      <th>9</th>\n",
       "      <th>10</th>\n",
       "      <th>11</th>\n",
       "      <th>12</th>\n",
       "      <th>13</th>\n",
       "    </tr>\n",
       "  </thead>\n",
       "  <tbody>\n",
       "    <tr>\n",
       "      <th>0</th>\n",
       "      <td>[욕설]</td>\n",
       "      <td>[박제]Jea</td>\n",
       "      <td>Hyeon00</td>\n",
       "      <td>위안부드립침</td>\n",
       "      <td>전번깜</td>\n",
       "      <td>01085571284</td>\n",
       "      <td>None</td>\n",
       "      <td>None</td>\n",
       "      <td>None</td>\n",
       "      <td>None</td>\n",
       "      <td>None</td>\n",
       "      <td>None</td>\n",
       "      <td>None</td>\n",
       "      <td>None</td>\n",
       "    </tr>\n",
       "    <tr>\n",
       "      <th>1</th>\n",
       "      <td>[욕설]</td>\n",
       "      <td>트롤러와</td>\n",
       "      <td>패드립퍼듀오</td>\n",
       "      <td>박제</td>\n",
       "      <td>시킵니다</td>\n",
       "      <td>None</td>\n",
       "      <td>None</td>\n",
       "      <td>None</td>\n",
       "      <td>None</td>\n",
       "      <td>None</td>\n",
       "      <td>None</td>\n",
       "      <td>None</td>\n",
       "      <td>None</td>\n",
       "      <td>None</td>\n",
       "    </tr>\n",
       "    <tr>\n",
       "      <th>2</th>\n",
       "      <td>[욕설]</td>\n",
       "      <td>WYBH</td>\n",
       "      <td>GIRIBOYZ</td>\n",
       "      <td>&lt;&lt;--트롤</td>\n",
       "      <td>욕설</td>\n",
       "      <td>박제요</td>\n",
       "      <td>사진</td>\n",
       "      <td>None</td>\n",
       "      <td>None</td>\n",
       "      <td>None</td>\n",
       "      <td>None</td>\n",
       "      <td>None</td>\n",
       "      <td>None</td>\n",
       "      <td>None</td>\n",
       "    </tr>\n",
       "    <tr>\n",
       "      <th>3</th>\n",
       "      <td>[욕설]</td>\n",
       "      <td>shotgun25</td>\n",
       "      <td>갑자기</td>\n",
       "      <td>욕</td>\n",
       "      <td>박음</td>\n",
       "      <td>None</td>\n",
       "      <td>None</td>\n",
       "      <td>None</td>\n",
       "      <td>None</td>\n",
       "      <td>None</td>\n",
       "      <td>None</td>\n",
       "      <td>None</td>\n",
       "      <td>None</td>\n",
       "      <td>None</td>\n",
       "    </tr>\n",
       "    <tr>\n",
       "      <th>4</th>\n",
       "      <td>[욕설]</td>\n",
       "      <td>Anyvitaus</td>\n",
       "      <td>패드립</td>\n",
       "      <td>박제</td>\n",
       "      <td>사진</td>\n",
       "      <td>None</td>\n",
       "      <td>None</td>\n",
       "      <td>None</td>\n",
       "      <td>None</td>\n",
       "      <td>None</td>\n",
       "      <td>None</td>\n",
       "      <td>None</td>\n",
       "      <td>None</td>\n",
       "      <td>None</td>\n",
       "    </tr>\n",
       "    <tr>\n",
       "      <th>...</th>\n",
       "      <td>...</td>\n",
       "      <td>...</td>\n",
       "      <td>...</td>\n",
       "      <td>...</td>\n",
       "      <td>...</td>\n",
       "      <td>...</td>\n",
       "      <td>...</td>\n",
       "      <td>...</td>\n",
       "      <td>...</td>\n",
       "      <td>...</td>\n",
       "      <td>...</td>\n",
       "      <td>...</td>\n",
       "      <td>...</td>\n",
       "      <td>...</td>\n",
       "    </tr>\n",
       "    <tr>\n",
       "      <th>235</th>\n",
       "      <td>[욕설]</td>\n",
       "      <td>play</td>\n",
       "      <td>yasuo</td>\n",
       "      <td>best</td>\n",
       "      <td>패드립</td>\n",
       "      <td>[3]</td>\n",
       "      <td>None</td>\n",
       "      <td>None</td>\n",
       "      <td>None</td>\n",
       "      <td>None</td>\n",
       "      <td>None</td>\n",
       "      <td>None</td>\n",
       "      <td>None</td>\n",
       "      <td>None</td>\n",
       "    </tr>\n",
       "    <tr>\n",
       "      <th>236</th>\n",
       "      <td>[욕설]</td>\n",
       "      <td>김혜진</td>\n",
       "      <td>내노예</td>\n",
       "      <td>&lt;&lt;패작러</td>\n",
       "      <td>제보</td>\n",
       "      <td>사진</td>\n",
       "      <td>None</td>\n",
       "      <td>None</td>\n",
       "      <td>None</td>\n",
       "      <td>None</td>\n",
       "      <td>None</td>\n",
       "      <td>None</td>\n",
       "      <td>None</td>\n",
       "      <td>None</td>\n",
       "    </tr>\n",
       "    <tr>\n",
       "      <th>237</th>\n",
       "      <td>[욕설]</td>\n",
       "      <td>96윤동현</td>\n",
       "      <td>이거부캐임트롤함</td>\n",
       "      <td>패드립</td>\n",
       "      <td>[2]</td>\n",
       "      <td>None</td>\n",
       "      <td>None</td>\n",
       "      <td>None</td>\n",
       "      <td>None</td>\n",
       "      <td>None</td>\n",
       "      <td>None</td>\n",
       "      <td>None</td>\n",
       "      <td>None</td>\n",
       "      <td>None</td>\n",
       "    </tr>\n",
       "    <tr>\n",
       "      <th>238</th>\n",
       "      <td>[욕설]</td>\n",
       "      <td>롤겜하다가</td>\n",
       "      <td>None</td>\n",
       "      <td>None</td>\n",
       "      <td>None</td>\n",
       "      <td>None</td>\n",
       "      <td>None</td>\n",
       "      <td>None</td>\n",
       "      <td>None</td>\n",
       "      <td>None</td>\n",
       "      <td>None</td>\n",
       "      <td>None</td>\n",
       "      <td>None</td>\n",
       "      <td>None</td>\n",
       "    </tr>\n",
       "    <tr>\n",
       "      <th>239</th>\n",
       "      <td>[욕설]</td>\n",
       "      <td>포항</td>\n",
       "      <td>이즈리얼</td>\n",
       "      <td>&lt;-</td>\n",
       "      <td>미드</td>\n",
       "      <td>룰루</td>\n",
       "      <td>하고</td>\n",
       "      <td>랭에서</td>\n",
       "      <td>트롤하는</td>\n",
       "      <td>트롤러</td>\n",
       "      <td>None</td>\n",
       "      <td>None</td>\n",
       "      <td>None</td>\n",
       "      <td>None</td>\n",
       "    </tr>\n",
       "  </tbody>\n",
       "</table>\n",
       "<p>240 rows × 14 columns</p>\n",
       "</div>"
      ],
      "text/plain": [
       "       0          1         2       3     4            5     6     7     8   \\\n",
       "0    [욕설]    [박제]Jea   Hyeon00  위안부드립침   전번깜  01085571284  None  None  None   \n",
       "1    [욕설]       트롤러와    패드립퍼듀오      박제  시킵니다         None  None  None  None   \n",
       "2    [욕설]       WYBH  GIRIBOYZ  <<--트롤    욕설          박제요    사진  None  None   \n",
       "3    [욕설]  shotgun25       갑자기       욕    박음         None  None  None  None   \n",
       "4    [욕설]  Anyvitaus       패드립      박제    사진         None  None  None  None   \n",
       "..    ...        ...       ...     ...   ...          ...   ...   ...   ...   \n",
       "235  [욕설]       play     yasuo    best   패드립          [3]  None  None  None   \n",
       "236  [욕설]        김혜진       내노예   <<패작러    제보           사진  None  None  None   \n",
       "237  [욕설]      96윤동현  이거부캐임트롤함     패드립   [2]         None  None  None  None   \n",
       "238  [욕설]      롤겜하다가      None    None  None         None  None  None  None   \n",
       "239  [욕설]         포항      이즈리얼      <-    미드           룰루    하고   랭에서  트롤하는   \n",
       "\n",
       "       9     10    11    12    13  \n",
       "0    None  None  None  None  None  \n",
       "1    None  None  None  None  None  \n",
       "2    None  None  None  None  None  \n",
       "3    None  None  None  None  None  \n",
       "4    None  None  None  None  None  \n",
       "..    ...   ...   ...   ...   ...  \n",
       "235  None  None  None  None  None  \n",
       "236  None  None  None  None  None  \n",
       "237  None  None  None  None  None  \n",
       "238  None  None  None  None  None  \n",
       "239   트롤러  None  None  None  None  \n",
       "\n",
       "[240 rows x 14 columns]"
      ]
     },
     "execution_count": 15,
     "metadata": {},
     "output_type": "execute_result"
    }
   ],
   "source": [
    "nick_df"
   ]
  },
  {
   "cell_type": "code",
   "execution_count": 16,
   "id": "d2f6ca00",
   "metadata": {
    "ExecuteTime": {
     "end_time": "2022-06-28T08:21:39.747486Z",
     "start_time": "2022-06-28T08:21:39.721188Z"
    }
   },
   "outputs": [],
   "source": [
    "nick_df.to_csv('./nick_df1.csv', index=False)"
   ]
  },
  {
   "cell_type": "code",
   "execution_count": 29,
   "id": "2428af5b",
   "metadata": {
    "ExecuteTime": {
     "end_time": "2022-06-28T08:46:34.348773Z",
     "start_time": "2022-06-28T08:46:34.325848Z"
    }
   },
   "outputs": [],
   "source": [
    "#전처리 데이터 불러오기\n",
    "df = pd.read_csv('./raw220628.csv',\n",
    "                 encoding='utf-8')"
   ]
  },
  {
   "cell_type": "code",
   "execution_count": 30,
   "id": "1e9f21e3",
   "metadata": {
    "ExecuteTime": {
     "end_time": "2022-06-28T08:46:36.592946Z",
     "start_time": "2022-06-28T08:46:36.567452Z"
    }
   },
   "outputs": [
    {
     "data": {
      "text/html": [
       "<div>\n",
       "<style scoped>\n",
       "    .dataframe tbody tr th:only-of-type {\n",
       "        vertical-align: middle;\n",
       "    }\n",
       "\n",
       "    .dataframe tbody tr th {\n",
       "        vertical-align: top;\n",
       "    }\n",
       "\n",
       "    .dataframe thead th {\n",
       "        text-align: right;\n",
       "    }\n",
       "</style>\n",
       "<table border=\"1\" class=\"dataframe\">\n",
       "  <thead>\n",
       "    <tr style=\"text-align: right;\">\n",
       "      <th></th>\n",
       "      <th>Column2</th>\n",
       "    </tr>\n",
       "  </thead>\n",
       "  <tbody>\n",
       "    <tr>\n",
       "      <th>0</th>\n",
       "      <td>턱돼지</td>\n",
       "    </tr>\n",
       "    <tr>\n",
       "      <th>1</th>\n",
       "      <td>핑찍으면우물잠수</td>\n",
       "    </tr>\n",
       "    <tr>\n",
       "      <th>2</th>\n",
       "      <td>Visual Jockey</td>\n",
       "    </tr>\n",
       "    <tr>\n",
       "      <th>3</th>\n",
       "      <td>이원일</td>\n",
       "    </tr>\n",
       "    <tr>\n",
       "      <th>4</th>\n",
       "      <td>mvp맨</td>\n",
       "    </tr>\n",
       "    <tr>\n",
       "      <th>...</th>\n",
       "      <td>...</td>\n",
       "    </tr>\n",
       "    <tr>\n",
       "      <th>1108</th>\n",
       "      <td>관악산오리백숙</td>\n",
       "    </tr>\n",
       "    <tr>\n",
       "      <th>1109</th>\n",
       "      <td>T1테뒤</td>\n",
       "    </tr>\n",
       "    <tr>\n",
       "      <th>1110</th>\n",
       "      <td>문란한사생활</td>\n",
       "    </tr>\n",
       "    <tr>\n",
       "      <th>1111</th>\n",
       "      <td>카와이민성</td>\n",
       "    </tr>\n",
       "    <tr>\n",
       "      <th>1112</th>\n",
       "      <td>콜라마신다</td>\n",
       "    </tr>\n",
       "  </tbody>\n",
       "</table>\n",
       "<p>1113 rows × 1 columns</p>\n",
       "</div>"
      ],
      "text/plain": [
       "            Column2\n",
       "0               턱돼지\n",
       "1          핑찍으면우물잠수\n",
       "2     Visual Jockey\n",
       "3               이원일\n",
       "4              mvp맨\n",
       "...             ...\n",
       "1108        관악산오리백숙\n",
       "1109           T1테뒤\n",
       "1110         문란한사생활\n",
       "1111          카와이민성\n",
       "1112          콜라마신다\n",
       "\n",
       "[1113 rows x 1 columns]"
      ]
     },
     "execution_count": 30,
     "metadata": {},
     "output_type": "execute_result"
    }
   ],
   "source": [
    "df"
   ]
  },
  {
   "cell_type": "code",
   "execution_count": 31,
   "id": "5088b7a5",
   "metadata": {
    "ExecuteTime": {
     "end_time": "2022-06-28T08:46:38.369366Z",
     "start_time": "2022-06-28T08:46:38.343432Z"
    }
   },
   "outputs": [
    {
     "name": "stdout",
     "output_type": "stream",
     "text": [
      "<class 'pandas.core.frame.DataFrame'>\n",
      "RangeIndex: 1113 entries, 0 to 1112\n",
      "Data columns (total 1 columns):\n",
      " #   Column   Non-Null Count  Dtype \n",
      "---  ------   --------------  ----- \n",
      " 0   Column2  1113 non-null   object\n",
      "dtypes: object(1)\n",
      "memory usage: 8.8+ KB\n"
     ]
    }
   ],
   "source": [
    "df.info()"
   ]
  },
  {
   "cell_type": "code",
   "execution_count": 32,
   "id": "933aee45",
   "metadata": {
    "ExecuteTime": {
     "end_time": "2022-06-28T08:46:39.865294Z",
     "start_time": "2022-06-28T08:46:39.846269Z"
    }
   },
   "outputs": [
    {
     "data": {
      "text/plain": [
       "Column2\n",
       "0티어나르      1\n",
       "양파맛우유      1\n",
       "어린왕자지완     1\n",
       "어른아이님      1\n",
       "어떻게성이류야    1\n",
       "          ..\n",
       "내고추한라산     1\n",
       "내꿈은뜨뜨뜨뜨    1\n",
       "내루트따라줘     1\n",
       "내마눌김새론     1\n",
       "힐주랑        1\n",
       "Length: 1113, dtype: int64"
      ]
     },
     "execution_count": 32,
     "metadata": {},
     "output_type": "execute_result"
    }
   ],
   "source": [
    "df.value_counts()"
   ]
  },
  {
   "cell_type": "code",
   "execution_count": null,
   "id": "009f972f",
   "metadata": {},
   "outputs": [],
   "source": []
  }
 ],
 "metadata": {
  "kernelspec": {
   "display_name": "Python 3 (ipykernel)",
   "language": "python",
   "name": "python3"
  },
  "language_info": {
   "codemirror_mode": {
    "name": "ipython",
    "version": 3
   },
   "file_extension": ".py",
   "mimetype": "text/x-python",
   "name": "python",
   "nbconvert_exporter": "python",
   "pygments_lexer": "ipython3",
   "version": "3.8.13"
  },
  "toc": {
   "base_numbering": 1,
   "nav_menu": {},
   "number_sections": true,
   "sideBar": true,
   "skip_h1_title": false,
   "title_cell": "Table of Contents",
   "title_sidebar": "Contents",
   "toc_cell": false,
   "toc_position": {},
   "toc_section_display": true,
   "toc_window_display": false
  },
  "varInspector": {
   "cols": {
    "lenName": 16,
    "lenType": 16,
    "lenVar": 40
   },
   "kernels_config": {
    "python": {
     "delete_cmd_postfix": "",
     "delete_cmd_prefix": "del ",
     "library": "var_list.py",
     "varRefreshCmd": "print(var_dic_list())"
    },
    "r": {
     "delete_cmd_postfix": ") ",
     "delete_cmd_prefix": "rm(",
     "library": "var_list.r",
     "varRefreshCmd": "cat(var_dic_list()) "
    }
   },
   "types_to_exclude": [
    "module",
    "function",
    "builtin_function_or_method",
    "instance",
    "_Feature"
   ],
   "window_display": false
  }
 },
 "nbformat": 4,
 "nbformat_minor": 5
}

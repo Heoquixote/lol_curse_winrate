{
 "cells": [
  {
   "cell_type": "code",
   "execution_count": 1,
   "id": "74dce33c",
   "metadata": {
    "ExecuteTime": {
     "end_time": "2022-06-29T10:02:09.150259Z",
     "start_time": "2022-06-29T10:02:03.679895Z"
    }
   },
   "outputs": [],
   "source": [
    "# 필요패키지 import\n",
    "import time\n",
    "import json\n",
    "import urllib\n",
    "import requests\n",
    "import numpy as np\n",
    "import pandas as pd\n",
    "import matplotlib.pyplot as plt\n",
    "import seaborn as sns\n",
    "from bs4 import BeautifulSoup"
   ]
  },
  {
   "cell_type": "code",
   "execution_count": 2,
   "id": "86324701",
   "metadata": {
    "ExecuteTime": {
     "end_time": "2022-06-29T10:03:14.011881Z",
     "start_time": "2022-06-29T10:03:09.845090Z"
    }
   },
   "outputs": [],
   "source": [
    "#데이터 담는 곳\n",
    "desc_list = []\n",
    "\n",
    "for num in range(26,30):\n",
    "#딜레이    \n",
    "    seed = np.random.randint(100)\n",
    "    np.random.seed(seed)\n",
    "    a = np.random.randint(1) + round(np.random.random(),2)\n",
    "    time.sleep(a)\n",
    "\n",
    "#욕설신고 게시판 제목 크롤링\n",
    "    url = f'https://www.inven.co.kr/board/lol/2771?category=%EC%9A%95%EC%84%A4&p={num}'\n",
    "    resp = requests.get(url)\n",
    "    html = BeautifulSoup(resp.text, 'html.parser')\n",
    "    for news in html.select('td.tit'):\n",
    "        desc_list.append(news.text.strip().replace('\\t','').replace('\\n',''))"
   ]
  },
  {
   "cell_type": "code",
   "execution_count": 3,
   "id": "8bc21f30",
   "metadata": {
    "ExecuteTime": {
     "end_time": "2022-06-29T10:03:14.429763Z",
     "start_time": "2022-06-29T10:03:14.418825Z"
    }
   },
   "outputs": [
    {
     "data": {
      "text/plain": [
       "240"
      ]
     },
     "execution_count": 3,
     "metadata": {},
     "output_type": "execute_result"
    }
   ],
   "source": [
    "len(desc_list)"
   ]
  },
  {
   "cell_type": "code",
   "execution_count": 4,
   "id": "a45cac08",
   "metadata": {
    "ExecuteTime": {
     "end_time": "2022-06-29T10:03:21.092870Z",
     "start_time": "2022-06-29T10:03:21.075917Z"
    }
   },
   "outputs": [],
   "source": [
    "nick_list = []\n",
    "for i in range(0,240):\n",
    "    nick_list.append(desc_list[i].split())"
   ]
  },
  {
   "cell_type": "code",
   "execution_count": 5,
   "id": "70a51865",
   "metadata": {
    "ExecuteTime": {
     "end_time": "2022-06-29T10:03:21.567619Z",
     "start_time": "2022-06-29T10:03:21.555634Z"
    }
   },
   "outputs": [],
   "source": [
    "nick_df = pd.DataFrame(nick_list)"
   ]
  },
  {
   "cell_type": "code",
   "execution_count": 6,
   "id": "b8643a32",
   "metadata": {
    "ExecuteTime": {
     "end_time": "2022-06-29T10:03:22.146593Z",
     "start_time": "2022-06-29T10:03:22.109688Z"
    }
   },
   "outputs": [
    {
     "data": {
      "text/html": [
       "<div>\n",
       "<style scoped>\n",
       "    .dataframe tbody tr th:only-of-type {\n",
       "        vertical-align: middle;\n",
       "    }\n",
       "\n",
       "    .dataframe tbody tr th {\n",
       "        vertical-align: top;\n",
       "    }\n",
       "\n",
       "    .dataframe thead th {\n",
       "        text-align: right;\n",
       "    }\n",
       "</style>\n",
       "<table border=\"1\" class=\"dataframe\">\n",
       "  <thead>\n",
       "    <tr style=\"text-align: right;\">\n",
       "      <th></th>\n",
       "      <th>0</th>\n",
       "      <th>1</th>\n",
       "      <th>2</th>\n",
       "      <th>3</th>\n",
       "      <th>4</th>\n",
       "      <th>5</th>\n",
       "      <th>6</th>\n",
       "      <th>7</th>\n",
       "      <th>8</th>\n",
       "      <th>9</th>\n",
       "      <th>10</th>\n",
       "      <th>11</th>\n",
       "      <th>12</th>\n",
       "      <th>13</th>\n",
       "      <th>14</th>\n",
       "      <th>15</th>\n",
       "    </tr>\n",
       "  </thead>\n",
       "  <tbody>\n",
       "    <tr>\n",
       "      <th>0</th>\n",
       "      <td>[욕설]</td>\n",
       "      <td>미드여신이렐리아&lt;-</td>\n",
       "      <td>패드립,</td>\n",
       "      <td>욕설,</td>\n",
       "      <td>혐오발언</td>\n",
       "      <td>None</td>\n",
       "      <td>None</td>\n",
       "      <td>None</td>\n",
       "      <td>None</td>\n",
       "      <td>None</td>\n",
       "      <td>None</td>\n",
       "      <td>None</td>\n",
       "      <td>None</td>\n",
       "      <td>None</td>\n",
       "      <td>None</td>\n",
       "      <td>None</td>\n",
       "    </tr>\n",
       "    <tr>\n",
       "      <th>1</th>\n",
       "      <td>[욕설]</td>\n",
       "      <td>롤은</td>\n",
       "      <td>패드립이</td>\n",
       "      <td>기본</td>\n",
       "      <td>옵션인듯..</td>\n",
       "      <td>[1]</td>\n",
       "      <td>사진</td>\n",
       "      <td>None</td>\n",
       "      <td>None</td>\n",
       "      <td>None</td>\n",
       "      <td>None</td>\n",
       "      <td>None</td>\n",
       "      <td>None</td>\n",
       "      <td>None</td>\n",
       "      <td>None</td>\n",
       "      <td>None</td>\n",
       "    </tr>\n",
       "    <tr>\n",
       "      <th>2</th>\n",
       "      <td>[욕설]</td>\n",
       "      <td>별공주</td>\n",
       "      <td>&lt;&lt;</td>\n",
       "      <td>일겜트롤러</td>\n",
       "      <td>None</td>\n",
       "      <td>None</td>\n",
       "      <td>None</td>\n",
       "      <td>None</td>\n",
       "      <td>None</td>\n",
       "      <td>None</td>\n",
       "      <td>None</td>\n",
       "      <td>None</td>\n",
       "      <td>None</td>\n",
       "      <td>None</td>\n",
       "      <td>None</td>\n",
       "      <td>None</td>\n",
       "    </tr>\n",
       "    <tr>\n",
       "      <th>3</th>\n",
       "      <td>[욕설]</td>\n",
       "      <td>칼바람</td>\n",
       "      <td>욕설</td>\n",
       "      <td>및</td>\n",
       "      <td>트롤유저</td>\n",
       "      <td>신고[개인팟TV]</td>\n",
       "      <td>사진</td>\n",
       "      <td>None</td>\n",
       "      <td>None</td>\n",
       "      <td>None</td>\n",
       "      <td>None</td>\n",
       "      <td>None</td>\n",
       "      <td>None</td>\n",
       "      <td>None</td>\n",
       "      <td>None</td>\n",
       "      <td>None</td>\n",
       "    </tr>\n",
       "    <tr>\n",
       "      <th>4</th>\n",
       "      <td>[욕설]</td>\n",
       "      <td>개</td>\n",
       "      <td>악질새끼들</td>\n",
       "      <td>박제</td>\n",
       "      <td>사진</td>\n",
       "      <td>None</td>\n",
       "      <td>None</td>\n",
       "      <td>None</td>\n",
       "      <td>None</td>\n",
       "      <td>None</td>\n",
       "      <td>None</td>\n",
       "      <td>None</td>\n",
       "      <td>None</td>\n",
       "      <td>None</td>\n",
       "      <td>None</td>\n",
       "      <td>None</td>\n",
       "    </tr>\n",
       "    <tr>\n",
       "      <th>...</th>\n",
       "      <td>...</td>\n",
       "      <td>...</td>\n",
       "      <td>...</td>\n",
       "      <td>...</td>\n",
       "      <td>...</td>\n",
       "      <td>...</td>\n",
       "      <td>...</td>\n",
       "      <td>...</td>\n",
       "      <td>...</td>\n",
       "      <td>...</td>\n",
       "      <td>...</td>\n",
       "      <td>...</td>\n",
       "      <td>...</td>\n",
       "      <td>...</td>\n",
       "      <td>...</td>\n",
       "      <td>...</td>\n",
       "    </tr>\n",
       "    <tr>\n",
       "      <th>235</th>\n",
       "      <td>[욕설]</td>\n",
       "      <td>5인</td>\n",
       "      <td>비매너/욕설/패드립</td>\n",
       "      <td>박제합니다.</td>\n",
       "      <td>사진</td>\n",
       "      <td>None</td>\n",
       "      <td>None</td>\n",
       "      <td>None</td>\n",
       "      <td>None</td>\n",
       "      <td>None</td>\n",
       "      <td>None</td>\n",
       "      <td>None</td>\n",
       "      <td>None</td>\n",
       "      <td>None</td>\n",
       "      <td>None</td>\n",
       "      <td>None</td>\n",
       "    </tr>\n",
       "    <tr>\n",
       "      <th>236</th>\n",
       "      <td>[욕설]</td>\n",
       "      <td>욕설</td>\n",
       "      <td>사용</td>\n",
       "      <td>유저</td>\n",
       "      <td>신고</td>\n",
       "      <td>사진</td>\n",
       "      <td>None</td>\n",
       "      <td>None</td>\n",
       "      <td>None</td>\n",
       "      <td>None</td>\n",
       "      <td>None</td>\n",
       "      <td>None</td>\n",
       "      <td>None</td>\n",
       "      <td>None</td>\n",
       "      <td>None</td>\n",
       "      <td>None</td>\n",
       "    </tr>\n",
       "    <tr>\n",
       "      <th>237</th>\n",
       "      <td>[욕설]</td>\n",
       "      <td>티</td>\n",
       "      <td>팔</td>\n",
       "      <td>&lt;&lt;</td>\n",
       "      <td>패드립</td>\n",
       "      <td>사진</td>\n",
       "      <td>None</td>\n",
       "      <td>None</td>\n",
       "      <td>None</td>\n",
       "      <td>None</td>\n",
       "      <td>None</td>\n",
       "      <td>None</td>\n",
       "      <td>None</td>\n",
       "      <td>None</td>\n",
       "      <td>None</td>\n",
       "      <td>None</td>\n",
       "    </tr>\n",
       "    <tr>\n",
       "      <th>238</th>\n",
       "      <td>[욕설]</td>\n",
       "      <td>꽃이</td>\n",
       "      <td>필</td>\n",
       "      <td>때</td>\n",
       "      <td>까지&lt;&lt;</td>\n",
       "      <td>패드립</td>\n",
       "      <td>박제</td>\n",
       "      <td>사진</td>\n",
       "      <td>None</td>\n",
       "      <td>None</td>\n",
       "      <td>None</td>\n",
       "      <td>None</td>\n",
       "      <td>None</td>\n",
       "      <td>None</td>\n",
       "      <td>None</td>\n",
       "      <td>None</td>\n",
       "    </tr>\n",
       "    <tr>\n",
       "      <th>239</th>\n",
       "      <td>[욕설]</td>\n",
       "      <td>채팅하면</td>\n",
       "      <td>던질거</td>\n",
       "      <td>&lt;--패작러</td>\n",
       "      <td>사진</td>\n",
       "      <td>None</td>\n",
       "      <td>None</td>\n",
       "      <td>None</td>\n",
       "      <td>None</td>\n",
       "      <td>None</td>\n",
       "      <td>None</td>\n",
       "      <td>None</td>\n",
       "      <td>None</td>\n",
       "      <td>None</td>\n",
       "      <td>None</td>\n",
       "      <td>None</td>\n",
       "    </tr>\n",
       "  </tbody>\n",
       "</table>\n",
       "<p>240 rows × 16 columns</p>\n",
       "</div>"
      ],
      "text/plain": [
       "       0           1           2       3       4          5     6     7   \\\n",
       "0    [욕설]  미드여신이렐리아<-        패드립,     욕설,    혐오발언       None  None  None   \n",
       "1    [욕설]          롤은        패드립이      기본  옵션인듯..        [1]    사진  None   \n",
       "2    [욕설]         별공주          <<   일겜트롤러    None       None  None  None   \n",
       "3    [욕설]         칼바람          욕설       및    트롤유저  신고[개인팟TV]    사진  None   \n",
       "4    [욕설]           개       악질새끼들      박제      사진       None  None  None   \n",
       "..    ...         ...         ...     ...     ...        ...   ...   ...   \n",
       "235  [욕설]          5인  비매너/욕설/패드립  박제합니다.      사진       None  None  None   \n",
       "236  [욕설]          욕설          사용      유저      신고         사진  None  None   \n",
       "237  [욕설]           티           팔      <<     패드립         사진  None  None   \n",
       "238  [욕설]          꽃이           필       때    까지<<        패드립    박제    사진   \n",
       "239  [욕설]        채팅하면         던질거  <--패작러      사진       None  None  None   \n",
       "\n",
       "       8     9     10    11    12    13    14    15  \n",
       "0    None  None  None  None  None  None  None  None  \n",
       "1    None  None  None  None  None  None  None  None  \n",
       "2    None  None  None  None  None  None  None  None  \n",
       "3    None  None  None  None  None  None  None  None  \n",
       "4    None  None  None  None  None  None  None  None  \n",
       "..    ...   ...   ...   ...   ...   ...   ...   ...  \n",
       "235  None  None  None  None  None  None  None  None  \n",
       "236  None  None  None  None  None  None  None  None  \n",
       "237  None  None  None  None  None  None  None  None  \n",
       "238  None  None  None  None  None  None  None  None  \n",
       "239  None  None  None  None  None  None  None  None  \n",
       "\n",
       "[240 rows x 16 columns]"
      ]
     },
     "execution_count": 6,
     "metadata": {},
     "output_type": "execute_result"
    }
   ],
   "source": [
    "nick_df"
   ]
  },
  {
   "cell_type": "code",
   "execution_count": 7,
   "id": "d2f6ca00",
   "metadata": {
    "ExecuteTime": {
     "end_time": "2022-06-29T10:03:29.709211Z",
     "start_time": "2022-06-29T10:03:29.684277Z"
    }
   },
   "outputs": [],
   "source": [
    "nick_df.to_csv('./nick_df1.csv', index=False)"
   ]
  },
  {
   "cell_type": "code",
   "execution_count": 29,
   "id": "2428af5b",
   "metadata": {
    "ExecuteTime": {
     "end_time": "2022-06-28T08:46:34.348773Z",
     "start_time": "2022-06-28T08:46:34.325848Z"
    }
   },
   "outputs": [],
   "source": [
    "#전처리 데이터 불러오기\n",
    "df = pd.read_csv('./raw220628.csv',\n",
    "                 encoding='utf-8')"
   ]
  },
  {
   "cell_type": "code",
   "execution_count": 30,
   "id": "1e9f21e3",
   "metadata": {
    "ExecuteTime": {
     "end_time": "2022-06-28T08:46:36.592946Z",
     "start_time": "2022-06-28T08:46:36.567452Z"
    }
   },
   "outputs": [
    {
     "data": {
      "text/html": [
       "<div>\n",
       "<style scoped>\n",
       "    .dataframe tbody tr th:only-of-type {\n",
       "        vertical-align: middle;\n",
       "    }\n",
       "\n",
       "    .dataframe tbody tr th {\n",
       "        vertical-align: top;\n",
       "    }\n",
       "\n",
       "    .dataframe thead th {\n",
       "        text-align: right;\n",
       "    }\n",
       "</style>\n",
       "<table border=\"1\" class=\"dataframe\">\n",
       "  <thead>\n",
       "    <tr style=\"text-align: right;\">\n",
       "      <th></th>\n",
       "      <th>Column2</th>\n",
       "    </tr>\n",
       "  </thead>\n",
       "  <tbody>\n",
       "    <tr>\n",
       "      <th>0</th>\n",
       "      <td>턱돼지</td>\n",
       "    </tr>\n",
       "    <tr>\n",
       "      <th>1</th>\n",
       "      <td>핑찍으면우물잠수</td>\n",
       "    </tr>\n",
       "    <tr>\n",
       "      <th>2</th>\n",
       "      <td>Visual Jockey</td>\n",
       "    </tr>\n",
       "    <tr>\n",
       "      <th>3</th>\n",
       "      <td>이원일</td>\n",
       "    </tr>\n",
       "    <tr>\n",
       "      <th>4</th>\n",
       "      <td>mvp맨</td>\n",
       "    </tr>\n",
       "    <tr>\n",
       "      <th>...</th>\n",
       "      <td>...</td>\n",
       "    </tr>\n",
       "    <tr>\n",
       "      <th>1108</th>\n",
       "      <td>관악산오리백숙</td>\n",
       "    </tr>\n",
       "    <tr>\n",
       "      <th>1109</th>\n",
       "      <td>T1테뒤</td>\n",
       "    </tr>\n",
       "    <tr>\n",
       "      <th>1110</th>\n",
       "      <td>문란한사생활</td>\n",
       "    </tr>\n",
       "    <tr>\n",
       "      <th>1111</th>\n",
       "      <td>카와이민성</td>\n",
       "    </tr>\n",
       "    <tr>\n",
       "      <th>1112</th>\n",
       "      <td>콜라마신다</td>\n",
       "    </tr>\n",
       "  </tbody>\n",
       "</table>\n",
       "<p>1113 rows × 1 columns</p>\n",
       "</div>"
      ],
      "text/plain": [
       "            Column2\n",
       "0               턱돼지\n",
       "1          핑찍으면우물잠수\n",
       "2     Visual Jockey\n",
       "3               이원일\n",
       "4              mvp맨\n",
       "...             ...\n",
       "1108        관악산오리백숙\n",
       "1109           T1테뒤\n",
       "1110         문란한사생활\n",
       "1111          카와이민성\n",
       "1112          콜라마신다\n",
       "\n",
       "[1113 rows x 1 columns]"
      ]
     },
     "execution_count": 30,
     "metadata": {},
     "output_type": "execute_result"
    }
   ],
   "source": [
    "df"
   ]
  },
  {
   "cell_type": "code",
   "execution_count": 31,
   "id": "5088b7a5",
   "metadata": {
    "ExecuteTime": {
     "end_time": "2022-06-28T08:46:38.369366Z",
     "start_time": "2022-06-28T08:46:38.343432Z"
    }
   },
   "outputs": [
    {
     "name": "stdout",
     "output_type": "stream",
     "text": [
      "<class 'pandas.core.frame.DataFrame'>\n",
      "RangeIndex: 1113 entries, 0 to 1112\n",
      "Data columns (total 1 columns):\n",
      " #   Column   Non-Null Count  Dtype \n",
      "---  ------   --------------  ----- \n",
      " 0   Column2  1113 non-null   object\n",
      "dtypes: object(1)\n",
      "memory usage: 8.8+ KB\n"
     ]
    }
   ],
   "source": [
    "df.info()"
   ]
  },
  {
   "cell_type": "code",
   "execution_count": 32,
   "id": "933aee45",
   "metadata": {
    "ExecuteTime": {
     "end_time": "2022-06-28T08:46:39.865294Z",
     "start_time": "2022-06-28T08:46:39.846269Z"
    }
   },
   "outputs": [
    {
     "data": {
      "text/plain": [
       "Column2\n",
       "0티어나르      1\n",
       "양파맛우유      1\n",
       "어린왕자지완     1\n",
       "어른아이님      1\n",
       "어떻게성이류야    1\n",
       "          ..\n",
       "내고추한라산     1\n",
       "내꿈은뜨뜨뜨뜨    1\n",
       "내루트따라줘     1\n",
       "내마눌김새론     1\n",
       "힐주랑        1\n",
       "Length: 1113, dtype: int64"
      ]
     },
     "execution_count": 32,
     "metadata": {},
     "output_type": "execute_result"
    }
   ],
   "source": [
    "df.value_counts()"
   ]
  },
  {
   "cell_type": "code",
   "execution_count": 8,
   "id": "009f972f",
   "metadata": {
    "ExecuteTime": {
     "end_time": "2022-06-29T11:37:16.927054Z",
     "start_time": "2022-06-29T11:37:16.890114Z"
    }
   },
   "outputs": [],
   "source": [
    "data2 = pd.read_csv('./raw220629.csv')"
   ]
  },
  {
   "cell_type": "code",
   "execution_count": null,
   "id": "084603ac",
   "metadata": {},
   "outputs": [],
   "source": []
  }
 ],
 "metadata": {
  "kernelspec": {
   "display_name": "ETA3.9",
   "language": "python",
   "name": "eta3.9"
  },
  "language_info": {
   "codemirror_mode": {
    "name": "ipython",
    "version": 3
   },
   "file_extension": ".py",
   "mimetype": "text/x-python",
   "name": "python",
   "nbconvert_exporter": "python",
   "pygments_lexer": "ipython3",
   "version": "3.9.7"
  },
  "toc": {
   "base_numbering": 1,
   "nav_menu": {},
   "number_sections": true,
   "sideBar": true,
   "skip_h1_title": false,
   "title_cell": "Table of Contents",
   "title_sidebar": "Contents",
   "toc_cell": false,
   "toc_position": {},
   "toc_section_display": true,
   "toc_window_display": false
  },
  "varInspector": {
   "cols": {
    "lenName": 16,
    "lenType": 16,
    "lenVar": 40
   },
   "kernels_config": {
    "python": {
     "delete_cmd_postfix": "",
     "delete_cmd_prefix": "del ",
     "library": "var_list.py",
     "varRefreshCmd": "print(var_dic_list())"
    },
    "r": {
     "delete_cmd_postfix": ") ",
     "delete_cmd_prefix": "rm(",
     "library": "var_list.r",
     "varRefreshCmd": "cat(var_dic_list()) "
    }
   },
   "types_to_exclude": [
    "module",
    "function",
    "builtin_function_or_method",
    "instance",
    "_Feature"
   ],
   "window_display": false
  }
 },
 "nbformat": 4,
 "nbformat_minor": 5
}
